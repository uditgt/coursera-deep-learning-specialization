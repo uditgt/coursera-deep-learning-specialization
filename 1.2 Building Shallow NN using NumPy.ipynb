{
 "cells": [
  {
   "cell_type": "markdown",
   "metadata": {},
   "source": [
    "# Building Shallow Neural Network using just NumPy\n",
    "\n",
    "Building a Neural Network classifier from **first principles**: \n",
    "* Create model architecture and initialize parameters\n",
    "* Calculating Cost Function and its Gradients\n",
    "* Optimizing using gradient descent"
   ]
  },
  {
   "cell_type": "markdown",
   "metadata": {},
   "source": [
    "---\n",
    "## Neural Network architecture\n",
    "\n",
    "<img src=\"images/classification_kiank.png\" style=\"width:600px;height:300px;\">"
   ]
  },
  {
   "cell_type": "code",
   "execution_count": 1,
   "metadata": {},
   "outputs": [],
   "source": [
    "import numpy as np\n",
    "import copy\n",
    "import matplotlib.pyplot as plt\n",
    "import h5py\n",
    "%matplotlib inline"
   ]
  },
  {
   "cell_type": "markdown",
   "metadata": {},
   "source": [
    "---\n",
    "## Loading data\n",
    "* a training set of m_train images labeled as cat (y=1) or non-cat (y=0)\n",
    "* a test set of m_test images labeled as cat or non-cat\n",
    "* each image is of shape (64, 64, 3) where 3 is for the 3 channels (RGB)"
   ]
  },
  {
   "cell_type": "code",
   "execution_count": 2,
   "metadata": {},
   "outputs": [
    {
     "name": "stdout",
     "output_type": "stream",
     "text": [
      "X_train shape: (12288, 209)\n",
      "X_test shape: (12288, 50)\n"
     ]
    }
   ],
   "source": [
    "train = h5py.File('data/train_catvnoncat.h5', \"r\")\n",
    "X_train_orig = np.array(train[\"train_set_x\"][:])\n",
    "Y_train = np.array(train[\"train_set_y\"][:])\n",
    "\n",
    "test = h5py.File('data/test_catvnoncat.h5', \"r\")\n",
    "X_test_orig = np.array(test[\"test_set_x\"][:]) \n",
    "Y_test = np.array(test[\"test_set_y\"][:])\n",
    "classes = np.array(test[\"list_classes\"][:])\n",
    "\n",
    "Y_train = Y_train.reshape((1, Y_train.shape[0]))\n",
    "Y_test  = Y_test.reshape((1, Y_test.shape[0]))\n",
    "\n",
    "X_train = X_train_orig.reshape(X_train_orig.shape[0],-1).T\n",
    "X_test  = X_test_orig.reshape(X_test_orig.shape[0],-1).T\n",
    "\n",
    "X_train = X_train / 255.\n",
    "X_test = X_test / 255.\n",
    "\n",
    "print (\"X_train shape: \" + str(X_train.shape))\n",
    "print (\"X_test shape: \" + str(X_test.shape))"
   ]
  },
  {
   "cell_type": "code",
   "execution_count": 3,
   "metadata": {},
   "outputs": [
    {
     "name": "stdout",
     "output_type": "stream",
     "text": [
      "y = [1], it's a 'cat' picture.\n"
     ]
    },
    {
     "data": {
      "image/png": "[encoded data removed]",
      "text/plain": [
       "<Figure size 432x288 with 1 Axes>"
      ]
     },
     "metadata": {
      "needs_background": "light"
     },
     "output_type": "display_data"
    }
   ],
   "source": [
    "# Example of a picture\n",
    "index = 25\n",
    "plt.imshow(X_train_orig[index])\n",
    "print (\"y = \" + str(Y_train[:, index]) + \", it's a '\" + classes[np.squeeze(Y_train[:, index])].decode(\"utf-8\") +  \"' picture.\")"
   ]
  },
  {
   "cell_type": "markdown",
   "metadata": {},
   "source": [
    "## Helper Functions\n",
    "---"
   ]
  },
  {
   "cell_type": "markdown",
   "metadata": {},
   "source": [
    "### Sigmoid"
   ]
  },
  {
   "cell_type": "code",
   "execution_count": 4,
   "metadata": {},
   "outputs": [],
   "source": [
    "def sigmoid(z):\n",
    "    \"\"\"\n",
    "    Compute the sigmoid of z (scalar or numpy array of any size.)\n",
    "    \"\"\"\n",
    "    return 1/(1+np.exp(-z))"
   ]
  },
  {
   "cell_type": "markdown",
   "metadata": {},
   "source": [
    "### Initialize Parameters"
   ]
  },
  {
   "cell_type": "code",
   "execution_count": 5,
   "metadata": {},
   "outputs": [],
   "source": [
    "def initialize_parameters(n_x, n_h, n_y):\n",
    "    \"\"\"\n",
    "    n_x, n_h, n_y -- size of the input / hidden / output layer\n",
    "    \"\"\"    \n",
    "    W1 = np.random.randn(n_h, n_x)*0.01\n",
    "    b1 = np.zeros((n_h, 1))\n",
    "    W2 = np.random.randn(n_y, n_h)*0.01\n",
    "    b2 = np.zeros((n_y, 1))\n",
    "\n",
    "    parameters = {\"W1\": W1,\n",
    "                  \"b1\": b1,\n",
    "                  \"W2\": W2,\n",
    "                  \"b2\": b2}\n",
    "    \n",
    "    return parameters"
   ]
  },
  {
   "cell_type": "markdown",
   "metadata": {},
   "source": [
    "### Forward + Backward Propagation\n",
    "**Forward Propagation:**\n",
    "$$Z^{[1]} =  W^{[1]} X + b^{[1]}$$ \n",
    "$$A^{[1]} = \\tanh(Z^{[1]})$$\n",
    "$$Z^{[2]} = W^{[2]} A^{[1]} + b^{[2]}$$\n",
    "$$\\hat{Y} = A^{[2]} = \\sigma(Z^{[2]})$$\n",
    "\n",
    "**Cost:**\n",
    "$$J = - \\frac{1}{m} \\sum\\limits_{i = 1}^{m} \\large{(} \\small y^{(i)}\\log\\left(a^{[2] (i)}\\right) + (1-y^{(i)})\\log\\left(1- a^{[2] (i)}\\right) \\large{)} \\small$$\n",
    "\n",
    "**Backward Propagation:**\n",
    "<img src=\"images/NN_equations.png\" style=\"width:400px;height:300px;\">\n",
    "\n",
    "$g^{[1]'}(Z^{[1]}) = 1 - A^2$ since $g^{[1]}(.)$ is the tanh activation function"
   ]
  },
  {
   "cell_type": "code",
   "execution_count": 6,
   "metadata": {},
   "outputs": [],
   "source": [
    "def forward_propagation(X, parameters):\n",
    "    \"\"\"\n",
    "    Compute forward propagation step\n",
    "    \"\"\"\n",
    "    W1 = parameters['W1']\n",
    "    b1 = parameters['b1']\n",
    "    W2 = parameters['W2']\n",
    "    b2 = parameters['b2']\n",
    "    \n",
    "    Z1 = np.dot(W1,X) + b1  # we can think of X as A0\n",
    "    A1 = np.tanh(Z1)\n",
    "    Z2 = np.dot(W2,A1) + b2\n",
    "    A2 = sigmoid(Z2)\n",
    "      \n",
    "    assert(A2.shape == (1, X.shape[1]))\n",
    "    \n",
    "    cache = {\"Z1\": Z1, \"A1\": A1,\n",
    "             \"Z2\": Z2, \"A2\": A2}\n",
    "    \n",
    "    return A2, cache"
   ]
  },
  {
   "cell_type": "code",
   "execution_count": 7,
   "metadata": {},
   "outputs": [],
   "source": [
    "def compute_cost(A2, Y):\n",
    "    \"\"\"\n",
    "    Computes the cross-entropy cost    \n",
    "    \"\"\"\n",
    "    m = Y.shape[1] # number of examples\n",
    "    cost = (-1/m)*(np.dot(np.log(A2), Y.T) + np.dot(np.log(1-A2), (1-Y).T))    \n",
    "    cost = float(np.squeeze(cost))  # E.g., turns [[17]] into 17 \n",
    "    return cost"
   ]
  },
  {
   "cell_type": "code",
   "execution_count": 8,
   "metadata": {},
   "outputs": [],
   "source": [
    "def backward_propagation(parameters, cache, X, Y):\n",
    "    \"\"\"\n",
    "    Compute gradients\n",
    "    \"\"\"\n",
    "    m = X.shape[1]\n",
    "    W1 = parameters['W1']\n",
    "    W2 = parameters['W2']    \n",
    "    A1 = cache['A1']\n",
    "    A2 = cache['A2']\n",
    "\n",
    "    dZ2 = A2 - Y\n",
    "    dW2 = (1/m)*np.dot(dZ2, A1.T)\n",
    "    db2 = (1/m)*np.sum(dZ2, axis=1, keepdims=True)\n",
    "    dZ1 = np.dot(W2.T, dZ2) * (1- A1**2)             # W2 & dZ2 is used here\n",
    "    dW1 = (1/m)*np.dot(dZ1, X.T)\n",
    "    db1 = (1/m)*np.sum(dZ1, axis=1, keepdims=True)\n",
    "    \n",
    "    grads = {\"dW1\": dW1, \"db1\": db1,\n",
    "             \"dW2\": dW2, \"db2\": db2} # dZ is not needed, as it is not a parameter\n",
    "    \n",
    "    return grads"
   ]
  },
  {
   "cell_type": "markdown",
   "metadata": {},
   "source": [
    "### Optimize"
   ]
  },
  {
   "cell_type": "code",
   "execution_count": 9,
   "metadata": {},
   "outputs": [],
   "source": [
    "def update_parameters(parameters, grads, learning_rate=0.01):\n",
    "    \"\"\"\n",
    "    Updates parameters using the gradient descent\n",
    "    \"\"\"\n",
    "    W1 = copy.deepcopy(parameters['W1'])\n",
    "    b1 = parameters['b1']\n",
    "    W2 = copy.deepcopy(parameters['W2'])\n",
    "    b2 = parameters['b2']     \n",
    "\n",
    "    dW1 = grads['dW1']\n",
    "    db1 = grads['db1']\n",
    "    dW2 = grads['dW2']\n",
    "    db2 = grads['db2']    \n",
    "\n",
    "    W1 = W1 - learning_rate*dW1\n",
    "    b1 = b1 - learning_rate*db1\n",
    "    W2 = W2 - learning_rate*dW2\n",
    "    b2 = b2 - learning_rate*db2\n",
    "    \n",
    "    parameters = {\"W1\": W1, \"b1\": b1,\n",
    "                  \"W2\": W2, \"b2\": b2}\n",
    "    \n",
    "    return parameters"
   ]
  },
  {
   "cell_type": "markdown",
   "metadata": {},
   "source": [
    "### Predict"
   ]
  },
  {
   "cell_type": "code",
   "execution_count": 10,
   "metadata": {},
   "outputs": [],
   "source": [
    "def predict(parameters, X):\n",
    "    A2, cache = forward_propagation(X, parameters)\n",
    "    predictions = np.round(A2)\n",
    "    return predictions"
   ]
  },
  {
   "cell_type": "markdown",
   "metadata": {},
   "source": [
    "### Combining into an Overall Model"
   ]
  },
  {
   "cell_type": "code",
   "execution_count": 11,
   "metadata": {},
   "outputs": [],
   "source": [
    "def nn_model(X_train, Y_train, X_test, Y_test, n_h, num_iterations = 10000, print_cost=False, learning_rate=1.2):\n",
    "    \"\"\"\n",
    "    n_h -- size of the hidden layer\n",
    "    \"\"\"\n",
    "    costs = []\n",
    "    n_x = X_train.shape[0]\n",
    "    n_y = Y_train.shape[0]\n",
    "    np.random.seed(3)\n",
    "    parameters = initialize_parameters(n_x, n_h, n_y)\n",
    "    \n",
    "    for i in range(0, num_iterations):\n",
    "        A2, cache = forward_propagation(X_train, parameters)  # Forward pass\n",
    "        grads = backward_propagation(parameters, cache, X_train, Y_train)  # Backward pass\n",
    "        parameters = update_parameters(parameters, grads, learning_rate)  # Update params\n",
    "        cost = compute_cost(A2, Y_train)  # Compute cost\n",
    "        \n",
    "        if print_cost and i % 100 == 0:\n",
    "            print ('Cost after iteration {}: {:.4f}'.format(i, cost))\n",
    "            costs.append(cost)\n",
    "\n",
    "    # Make Predictions\n",
    "    Y_pred_train = predict(parameters, X_train)\n",
    "    Y_pred_test = predict(parameters, X_test)\n",
    "    \n",
    "    # Print train/test fit\n",
    "    if print_cost:\n",
    "        print(\"train accuracy: {} %\".format(100 - np.mean(np.abs(Y_pred_train - Y_train)) * 100))\n",
    "        print(\"test accuracy: {} %\".format(100 - np.mean(np.abs(Y_pred_test - Y_test)) * 100))\n",
    "    \n",
    "    d = {\"costs\": costs,\n",
    "         \"Y_pred_train\": Y_pred_train, \n",
    "         \"Y_pred_test\" : Y_pred_test, \n",
    "         \"parameters\" : parameters,\n",
    "         \"learning_rate\" : learning_rate}\n",
    "    \n",
    "    return d"
   ]
  },
  {
   "cell_type": "markdown",
   "metadata": {},
   "source": [
    "---\n",
    "## Running Model"
   ]
  },
  {
   "cell_type": "code",
   "execution_count": 12,
   "metadata": {},
   "outputs": [
    {
     "name": "stdout",
     "output_type": "stream",
     "text": [
      "Cost after iteration 0: 0.6922\n",
      "Cost after iteration 100: 0.6433\n",
      "Cost after iteration 200: 0.6262\n",
      "Cost after iteration 300: 0.5816\n",
      "Cost after iteration 400: 0.5126\n",
      "Cost after iteration 500: 0.4333\n",
      "Cost after iteration 600: 0.3534\n",
      "Cost after iteration 700: 0.3831\n",
      "Cost after iteration 800: 0.3224\n",
      "Cost after iteration 900: 0.2739\n",
      "Cost after iteration 1000: 0.2287\n",
      "Cost after iteration 1100: 0.1839\n",
      "Cost after iteration 1200: 0.1397\n",
      "Cost after iteration 1300: 0.1061\n",
      "Cost after iteration 1400: 0.0827\n",
      "Cost after iteration 1500: 0.0690\n",
      "Cost after iteration 1600: 0.0590\n",
      "Cost after iteration 1700: 0.0510\n",
      "Cost after iteration 1800: 0.0446\n",
      "Cost after iteration 1900: 0.0393\n",
      "train accuracy: 100.0 %\n",
      "test accuracy: 72.0 %\n"
     ]
    }
   ],
   "source": [
    "n_h = 25\n",
    "model = nn_model(X_train, Y_train, X_test, Y_test, n_h, num_iterations = 2000, print_cost=True, learning_rate=0.01)"
   ]
  },
  {
   "cell_type": "code",
   "execution_count": 13,
   "metadata": {},
   "outputs": [
    {
     "data": {
      "image/png": "[encoded data removed]",
      "text/plain": [
       "<Figure size 432x288 with 1 Axes>"
      ]
     },
     "metadata": {
      "needs_background": "light"
     },
     "output_type": "display_data"
    }
   ],
   "source": [
    "# Plot learning curve (with costs)\n",
    "costs = np.squeeze(model['costs'])\n",
    "plt.plot(costs)\n",
    "plt.ylabel('cost')\n",
    "plt.xlabel('iterations (per hundreds)')\n",
    "plt.title(\"Learning rate =\" + str(model[\"learning_rate\"]))\n",
    "plt.show()"
   ]
  },
  {
   "cell_type": "markdown",
   "metadata": {},
   "source": [
    "## Conclusion\n",
    "Neural Network learns faster and performs better than logistic regression model built previously. However, at present, it overfits the Training data (accuracy of ~100%) with Test accuracy of only ~72%. However, the main takeaway here is building the **Neural Network model from first principles, without using any library.**"
   ]
  },
  {
   "cell_type": "code",
   "execution_count": 14,
   "metadata": {},
   "outputs": [
    {
     "name": "stdout",
     "output_type": "stream",
     "text": [
      "y = 1, prediction is \"non-cat\" picture.\n"
     ]
    },
    {
     "data": {
      "image/png": "[encoded data removed]",
      "text/plain": [
       "<Figure size 432x288 with 1 Axes>"
      ]
     },
     "metadata": {
      "needs_background": "light"
     },
     "output_type": "display_data"
    }
   ],
   "source": [
    "# Example of a wrong classification\n",
    "index = 6\n",
    "plt.imshow(X_test[:, index].reshape((64,64,3)))\n",
    "print (\"y = \" + str(Y_test[0,index]) + \", prediction is \\\"\" + classes[int(model['Y_pred_test'][0,index])].decode(\"utf-8\") +  \"\\\" picture.\")"
   ]
  },
  {
   "cell_type": "code",
   "execution_count": 15,
   "metadata": {},
   "outputs": [
    {
     "name": "stdout",
     "output_type": "stream",
     "text": [
      "y = 1, prediction is \"cat\" picture.\n"
     ]
    },
    {
     "data": {
      "image/png": "[encoded data removed]",
      "text/plain": [
       "<Figure size 432x288 with 1 Axes>"
      ]
     },
     "metadata": {
      "needs_background": "light"
     },
     "output_type": "display_data"
    }
   ],
   "source": [
    "# Example of a correct classification\n",
    "index = 2\n",
    "plt.imshow(X_test[:, index].reshape((64,64,3)))\n",
    "print (\"y = \" + str(Y_test[0,index]) + \", prediction is \\\"\" + classes[int(model['Y_pred_test'][0,index])].decode(\"utf-8\") +  \"\\\" picture.\")"
   ]
  }
 ],
 "metadata": {
  "kernelspec": {
   "display_name": "Python 3 (ipykernel)",
   "language": "python",
   "name": "python3"
  },
  "language_info": {
   "codemirror_mode": {
    "name": "ipython",
    "version": 3
   },
   "file_extension": ".py",
   "mimetype": "text/x-python",
   "name": "python",
   "nbconvert_exporter": "python",
   "pygments_lexer": "ipython3",
   "version": "3.8.5"
  }
 },
 "nbformat": 4,
 "nbformat_minor": 4
}
