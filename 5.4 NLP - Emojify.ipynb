{
 "cells": [
  {
   "cell_type": "markdown",
   "metadata": {},
   "source": [
    "# NLP\n",
    "\n",
    "Build an emojifier (outputs an emoji for an input sentence) using word-vector embeddings:\n",
    "* **Emojifier-V1**: Baseline model using word embeddings (using numpy)\n",
    "* **Emojifier-V2**: using LSTM (via tensorflow), allows the model to understand context\n",
    "---"
   ]
  },
  {
   "cell_type": "markdown",
   "metadata": {},
   "source": [
    "## Dataset EMOJISET\n",
    "\n",
    "We have a tiny dataset (X, Y) where:\n",
    "- X contains 127 sentences (strings).\n",
    "- Y contains an integer label between 0 and 4 corresponding to an emoji for each sentence.\n",
    "\n",
    "<img src=\"images/data_set.png\" style=\"width:700px;height:300px;\">\n",
    "<caption><center><font color='purple'>EMOJISET - a classification problem with 5 classes</center></caption></img>"
   ]
  },
  {
   "cell_type": "code",
   "execution_count": 1,
   "metadata": {},
   "outputs": [],
   "source": [
    "import numpy as np\n",
    "import csv\n",
    "import emoji\n",
    "import matplotlib.pyplot as plt\n",
    "import pandas as pd\n",
    "%matplotlib inline"
   ]
  },
  {
   "cell_type": "code",
   "execution_count": 2,
   "metadata": {},
   "outputs": [],
   "source": [
    "def softmax(x):\n",
    "    \"\"\"Compute softmax values for each sets of scores in x.\"\"\"\n",
    "    e_x = np.exp(x - np.max(x))\n",
    "    return e_x / e_x.sum()"
   ]
  },
  {
   "cell_type": "code",
   "execution_count": 3,
   "metadata": {},
   "outputs": [],
   "source": [
    "def convert_to_one_hot(Y, C):\n",
    "    Y = np.eye(C)[Y.reshape(-1)]\n",
    "    return Y"
   ]
  },
  {
   "cell_type": "code",
   "execution_count": 4,
   "metadata": {},
   "outputs": [],
   "source": [
    "def read_csv(filename):\n",
    "    phrase = []\n",
    "    emoji = []\n",
    "\n",
    "    with open (filename) as f:\n",
    "        csvReader = csv.reader(f)\n",
    "\n",
    "        for row in csvReader:\n",
    "            phrase.append(row[0])\n",
    "            emoji.append(row[1])\n",
    "\n",
    "    X = np.asarray(phrase)\n",
    "    Y = np.asarray(emoji, dtype=int)\n",
    "\n",
    "    return X, Y"
   ]
  },
  {
   "cell_type": "code",
   "execution_count": 5,
   "metadata": {},
   "outputs": [],
   "source": [
    "X_train, Y_train = read_csv('data/nlp_emoji/train_emoji.csv')\n",
    "X_test, Y_test = read_csv('data/nlp_emoji/tesss.csv')"
   ]
  },
  {
   "cell_type": "code",
   "execution_count": 6,
   "metadata": {},
   "outputs": [
    {
     "data": {
      "text/plain": [
       "((132,), (132,), (56,), (56,))"
      ]
     },
     "execution_count": 6,
     "metadata": {},
     "output_type": "execute_result"
    }
   ],
   "source": [
    "X_train.shape, Y_train.shape, X_test.shape, Y_test.shape"
   ]
  },
  {
   "cell_type": "code",
   "execution_count": 7,
   "metadata": {},
   "outputs": [
    {
     "data": {
      "text/plain": [
       "'I am so impressed by your dedication to this project'"
      ]
     },
     "execution_count": 7,
     "metadata": {},
     "output_type": "execute_result"
    }
   ],
   "source": [
    "max(X_train, key=len)"
   ]
  },
  {
   "cell_type": "code",
   "execution_count": 8,
   "metadata": {},
   "outputs": [],
   "source": [
    "emoji_dictionary = {\"0\": \"\\u2764\\uFE0F\",\n",
    "                    \"1\": \":baseball:\",\n",
    "                    \"2\": \":smile:\",\n",
    "                    \"3\": \":disappointed:\",\n",
    "                    \"4\": \":fork_and_knife:\"}\n",
    "\n",
    "def label_to_emoji(label):\n",
    "    \"\"\"\n",
    "    Converts a label (int or string) into the corresponding emoji code (string) ready to be printed\n",
    "    \"\"\"\n",
    "    return emoji.emojize(emoji_dictionary[str(label)], use_aliases=True)"
   ]
  },
  {
   "cell_type": "code",
   "execution_count": 9,
   "metadata": {},
   "outputs": [
    {
     "name": "stdout",
     "output_type": "stream",
     "text": [
      "never talk to me again 😞\n",
      "I am proud of your achievements 😄\n",
      "It is the worst day in my life 😞\n",
      "Miss you so much ❤️\n",
      "food is life 🍴\n",
      "I love you mum ❤️\n",
      "Stop saying bullshit 😞\n",
      "congratulations on your acceptance 😄\n",
      "The assignment is too long  😞\n",
      "I want to go play ⚾\n"
     ]
    }
   ],
   "source": [
    "for idx in range(10):\n",
    "    print(X_train[idx], label_to_emoji(Y_train[idx]))"
   ]
  },
  {
   "cell_type": "code",
   "execution_count": 10,
   "metadata": {},
   "outputs": [
    {
     "name": "stdout",
     "output_type": "stream",
     "text": [
      "Sentence 'never talk to me again' has label index 3, which is emoji 😞\n",
      "Label index 3 in one-hot encoding format is [[0. 0. 0. 1. 0.]]\n"
     ]
    }
   ],
   "source": [
    "print(f\"Sentence '{X_train[0]}' has label index {Y_train[0]}, which is emoji {label_to_emoji(Y_train[0])}\", )\n",
    "print(f\"Label index {Y_train[0]} in one-hot encoding format is {convert_to_one_hot(Y_train[0], C = 5)}\")"
   ]
  },
  {
   "cell_type": "code",
   "execution_count": 11,
   "metadata": {},
   "outputs": [],
   "source": [
    "def read_glove_vecs(glove_file):\n",
    "    with open(glove_file, 'r', encoding='utf-8') as f:\n",
    "        words = set()\n",
    "        word_to_vec_map = {}\n",
    "        for line in f:\n",
    "            line = line.strip().split()\n",
    "            curr_word = line[0]\n",
    "            words.add(curr_word)\n",
    "            word_to_vec_map[curr_word] = np.array(line[1:], dtype=np.float64)\n",
    "        \n",
    "        i = 1\n",
    "        words_to_index = {}\n",
    "        index_to_words = {}\n",
    "        for w in sorted(words):\n",
    "            words_to_index[w] = i\n",
    "            index_to_words[i] = w\n",
    "            i = i + 1\n",
    "    return words_to_index, index_to_words, word_to_vec_map"
   ]
  },
  {
   "cell_type": "code",
   "execution_count": 12,
   "metadata": {},
   "outputs": [],
   "source": [
    "word_to_index, index_to_word, word_to_vec_map = read_glove_vecs('pretrainedmodel/nlp_glovevec/glove.6B.50d.txt')"
   ]
  },
  {
   "cell_type": "code",
   "execution_count": 13,
   "metadata": {},
   "outputs": [
    {
     "name": "stdout",
     "output_type": "stream",
     "text": [
      "the index of cucumber in the vocabulary is 113317\n",
      "the 289846th word in the vocabulary is potatos\n"
     ]
    }
   ],
   "source": [
    "word = \"cucumber\"\n",
    "idx = 289846\n",
    "print(\"the index of\", word, \"in the vocabulary is\", word_to_index[word])\n",
    "print(\"the\", str(idx) + \"th word in the vocabulary is\", index_to_word[idx])"
   ]
  },
  {
   "cell_type": "markdown",
   "metadata": {},
   "source": [
    "---\n",
    "## Emojifier-V1: baseline model\n",
    "\n",
    "<center><img src=\"images/image_1.png\" style=\"width:900px;height:300px;\">\n",
    "    <caption><center><font color='purple'>Baseline model (Emojifier-V1).</center></caption></center></font></img>\n",
    "\n",
    "\n",
    "* The input of the model is a string corresponding to a sentence (e.g. \"I love you\"). \n",
    "* Each word is converted into it's embedding vector and the 'average' for sentence is calculated\n",
    "* The output will be a probability vector of shape (1,5), (indicating that there are 5 emojis to choose from).\n",
    "* The (1,5) probability vector is passed to an argmax layer, which extracts the index of the emoji with the highest probability.\n",
    "\n",
    "\n",
    "**Equations needed to implement the forward pass and compute cross-entropy cost:**\n",
    "$$ z^{(i)} = Wavg^{(i)} + b$$\n",
    "$$ a^{(i)} = softmax(z^{(i)})$$\n",
    "$$ \\mathcal{L}^{(i)} = - \\sum_{k = 0}^{n_y - 1} Y_{oh,k}^{(i)} * log(a^{(i)}_k)$$"
   ]
  },
  {
   "cell_type": "code",
   "execution_count": 14,
   "metadata": {},
   "outputs": [],
   "source": [
    "def predictions(X, Y, W, b, word_to_vec_map):\n",
    "    \"\"\"\n",
    "    Calculates predictions, for given parameters W, b\n",
    "    X (m, None) -> words -> avg. vector -> softmax -> max value = prediction (m,1) vs. y_true\n",
    "    \"\"\"\n",
    "    m = X.shape[0]\n",
    "    pred = np.zeros((m, 1))\n",
    "    any_word = list(word_to_vec_map.keys())[0]         # Get a sample work\n",
    "    n_h = word_to_vec_map[any_word].shape[0]           # Dimension of GloveVec embedding\n",
    "                              \n",
    "    for j in range(m):                                 # Loop over training examples               \n",
    "        \n",
    "        # Calculate average vector for sentence\n",
    "        words = X[j].lower().split()\n",
    "        avg = np.zeros((n_h,))                         # Initialize the average word vector\n",
    "        count = 0\n",
    "        for w in words:                                # Calculate average vector\n",
    "            if w in word_to_vec_map:\n",
    "                avg += word_to_vec_map[w]\n",
    "                count +=1\n",
    "\n",
    "        if count > 0:\n",
    "            avg = avg/count\n",
    "        \n",
    "        # Forward propagation\n",
    "        Z = np.dot(W, avg) + b\n",
    "        A = softmax(Z)\n",
    "        pred[j] = np.argmax(A)\n",
    "        \n",
    "    print(\"Accuracy: \"  + str(np.mean((pred[:] == Y.reshape(Y.shape[0],1)[:]))))\n",
    "    return pred"
   ]
  },
  {
   "cell_type": "code",
   "execution_count": 15,
   "metadata": {},
   "outputs": [],
   "source": [
    "def model(X, Y, word_to_vec_map, learning_rate = 0.01, num_iterations = 400):\n",
    "    \"\"\"\n",
    "    Model to train word vector representations in numpy.\n",
    "    X (m,), Y (m, 1): array of integers between 0 and 7\n",
    "    pred -- vector of predictions, numpy-array of shape (m, 1)\n",
    "    W / b -- weight matrix / bias of the softmax layer, of shape (n_y, n_h), (n_y,)\n",
    "    \"\"\"\n",
    "    any_word = list(word_to_vec_map.keys())[0] # sample word\n",
    "    n_h = word_to_vec_map[any_word].shape[0]   # dimensions of the GloVe vectors \n",
    "    m = X.shape[0]                             # number of training examples\n",
    "    n_y = len(np.unique(Y))                    # number of classes  \n",
    "    \n",
    "    # Initialize parameters using Xavier initialization\n",
    "    W = np.random.randn(n_y, n_h) / np.sqrt(n_h)\n",
    "    b = np.zeros((n_y,))\n",
    "    \n",
    "    # Convert Y to Y_onehot with n_y classes\n",
    "    Y_oh = convert_to_one_hot(Y, C = n_y) \n",
    "    \n",
    "    # Optimization loop\n",
    "    for t in range(num_iterations):\n",
    "        cost, dW, db = 0, 0, 0\n",
    "        \n",
    "        for i in range(m):          # Loop over the training examples\n",
    "\n",
    "            # Avg vector + Forward propagate through the softmax layer. \n",
    "            words = X[i].lower().split()\n",
    "            avg = np.zeros((n_h,))                         # Initialize the average word vector\n",
    "            count = 0\n",
    "            for w in words:                                # Calculate average vector\n",
    "                if w in word_to_vec_map:\n",
    "                    avg += word_to_vec_map[w]\n",
    "                    count +=1\n",
    "            \n",
    "            if count > 0:\n",
    "                avg = avg/count\n",
    "            \n",
    "            # Forward prop\n",
    "            z = np.dot(W, avg) + b\n",
    "            a = softmax(z)\n",
    "            cost += -np.sum(Y_oh[i] * np.log(a))\n",
    "                        \n",
    "            # Compute gradients \n",
    "            dz = a - Y_oh[i]\n",
    "            dW += np.dot(dz.reshape(n_y,1), avg.reshape(1, n_h))\n",
    "            db += dz\n",
    "\n",
    "            # Update parameters with Stochastic Gradient Descent\n",
    "            W = W - learning_rate * dW\n",
    "            b = b - learning_rate * db\n",
    "        \n",
    "        if t % 100 == 0:\n",
    "            print(\"Epoch: \" + str(t) + \" --- cost = \" + str(cost))\n",
    "            pred = predictions(X, Y, W, b, word_to_vec_map)\n",
    "    return pred, W, b"
   ]
  },
  {
   "cell_type": "code",
   "execution_count": 16,
   "metadata": {},
   "outputs": [
    {
     "name": "stdout",
     "output_type": "stream",
     "text": [
      "Epoch: 0 --- cost = 382.7257158439735\n",
      "Accuracy: 0.553030303030303\n",
      "Epoch: 100 --- cost = 47.05028762790248\n",
      "Accuracy: 0.9393939393939394\n",
      "Epoch: 200 --- cost = 55.46399565420228\n",
      "Accuracy: 0.9621212121212122\n",
      "Epoch: 300 --- cost = 0.37151123004985004\n",
      "Accuracy: 1.0\n",
      "[[3.]\n",
      " [2.]\n",
      " [3.]\n",
      " [0.]\n",
      " [4.]]\n"
     ]
    }
   ],
   "source": [
    "np.random.seed(2)\n",
    "pred, W, b = model(X_train, Y_train, word_to_vec_map)\n",
    "print(pred[:5])"
   ]
  },
  {
   "cell_type": "markdown",
   "metadata": {},
   "source": [
    "### Test Set Performance"
   ]
  },
  {
   "cell_type": "code",
   "execution_count": 17,
   "metadata": {},
   "outputs": [
    {
     "name": "stdout",
     "output_type": "stream",
     "text": [
      "Training set:\n",
      "Accuracy: 1.0\n",
      "Test set:\n",
      "Accuracy: 0.8928571428571429\n"
     ]
    }
   ],
   "source": [
    "print(\"Training set:\")\n",
    "pred_train = predictions(X_train, Y_train, W, b, word_to_vec_map)\n",
    "print('Test set:')\n",
    "pred_test = predictions(X_test, Y_test, W, b, word_to_vec_map)"
   ]
  },
  {
   "cell_type": "code",
   "execution_count": 18,
   "metadata": {},
   "outputs": [
    {
     "name": "stdout",
     "output_type": "stream",
     "text": [
      "(56,)\n",
      "           ❤️    ⚾    😄    😞   🍴\n",
      "Predicted  0.0  1.0  2.0  3.0  4.0  All\n",
      "Actual                                 \n",
      "0            6    0    0    1    0    7\n",
      "1            0    8    0    0    0    8\n",
      "2            1    0   17    0    0   18\n",
      "3            1    1    2   12    0   16\n",
      "4            0    0    0    0    7    7\n",
      "All          8    9   19   13    7   56\n"
     ]
    }
   ],
   "source": [
    "print(Y_test.shape)\n",
    "print('           '+ label_to_emoji(0)+ '    ' + label_to_emoji(1) + '    ' +  label_to_emoji(2)+ '    ' + label_to_emoji(3)+'   ' + label_to_emoji(4))\n",
    "print(pd.crosstab(Y_test, pred_test.reshape(56,), rownames=['Actual'], colnames=['Predicted'], margins=True))"
   ]
  },
  {
   "cell_type": "markdown",
   "metadata": {},
   "source": [
    "---\n",
    "## Emojifier-V2: LSTM based model using TensorFlow\n",
    "* Emojifier-V2 will continue to use pre-trained word embeddings to represent words. \n",
    "* We'll feed word embeddings into an LSTM, and the LSTM will learn to predict the most appropriate emoji. \n",
    "\n",
    "<img src=\"images/emojifier-v2.png\" style=\"width:700px;height:400px;\"> <br>\n",
    "<caption><center><font color='purple'>Emojifier-V2. A 2-layer LSTM sequence classifier. </center></caption></img>\n",
    "\n",
    "#### Padding (and/or truncation)\n",
    "We will train using mini-batches, which requires all sequences in the mini-batch to have the **same length**, which will be achieved through **padding**\n",
    "* Given a maximum sequence length of 20, we can pad every sentence with \"0\"s s.t. each sentence is of length 20. \n",
    "* Thus, the sentence \"I love you\" would be represented as $(e_{I}, e_{love}, e_{you}, \\vec{0}, \\vec{0}, \\ldots, \\vec{0})$. \n",
    "\n",
    "#### Embedding\n",
    "We will initialize an Embedding layer with GloVe 50D vectors (which won't be trained further)\n",
    "\n",
    "<img src=\"images/embedding1.png\" style=\"width:700px;height:250px;\">\n",
    "<caption><center><font color='purple'>Embedding layer</center></caption></img>"
   ]
  },
  {
   "cell_type": "code",
   "execution_count": 19,
   "metadata": {},
   "outputs": [],
   "source": [
    "import tensorflow as tf\n",
    "from tensorflow.keras.models import Model\n",
    "from tensorflow.keras.layers import Dense, Input, Dropout, LSTM, Activation, Embedding"
   ]
  },
  {
   "cell_type": "code",
   "execution_count": 20,
   "metadata": {},
   "outputs": [],
   "source": [
    "def sentences_to_indices(X, word_to_index, max_len):\n",
    "    \"\"\"\n",
    "    Converts an array of sentences (m,) into an array of indices (m, max_len)\n",
    "    \"\"\"\n",
    "    m = X.shape[0]                                   # number of training examples\n",
    "    X_indices = np.zeros((m, max_len))               # Initialize as a matrix of zeros\n",
    "    \n",
    "    for i in range(m):                               # loop over training examples        \n",
    "        sentence_words = X[i].lower().split()\n",
    "        j = 0\n",
    "\n",
    "        for w in sentence_words:\n",
    "            if w in word_to_index:\n",
    "                X_indices[i, j] = word_to_index[w]\n",
    "                j =  j+1\n",
    "    return X_indices"
   ]
  },
  {
   "cell_type": "markdown",
   "metadata": {},
   "source": [
    "### Creating Pre-trained Embedding Layer"
   ]
  },
  {
   "cell_type": "code",
   "execution_count": 21,
   "metadata": {},
   "outputs": [],
   "source": [
    "def pretrained_embedding_layer(word_to_vec_map, word_to_index):\n",
    "    \"\"\"\n",
    "    Creates a Keras Embedding() layer and loads in pre-trained GloVe 50-dimensional vectors.\n",
    "    \"\"\"\n",
    "    \n",
    "    vocab_size = len(word_to_index) + 1             # adding 1 to fit Keras embedding (requirement)\n",
    "    any_word = list(word_to_vec_map.keys())[0]\n",
    "    emb_dim = word_to_vec_map[any_word].shape[0]    # dimensions of the GloVe vectors \n",
    "\n",
    "    # Initialize the embedding matrix and populate it\n",
    "    emb_matrix = np.zeros((vocab_size, emb_dim))\n",
    "    for word, idx in word_to_index.items():\n",
    "        emb_matrix[idx, :] = word_to_vec_map[word]\n",
    "\n",
    "    # Define Keras embedding layer\n",
    "    embedding_layer = Embedding(input_dim = vocab_size, output_dim=emb_dim, \n",
    "                                trainable=False\n",
    "                               )\n",
    "    embedding_layer.build((None,)) # Build the embedding layer, required before setting weights \n",
    "    embedding_layer.set_weights([emb_matrix]) # Set the weights of the embedding\n",
    "    return embedding_layer"
   ]
  },
  {
   "cell_type": "code",
   "execution_count": 22,
   "metadata": {},
   "outputs": [],
   "source": [
    "def Emojify_V2(input_shape, word_to_vec_map, word_to_index):\n",
    "    \"\"\"\n",
    "    Creating the Emojify-v2 model's graph.\n",
    "    \"\"\"\n",
    "    # Create the embedding layer pretrained with GloVe Vectors\n",
    "    embedding_layer = pretrained_embedding_layer(word_to_vec_map, word_to_index)\n",
    "    \n",
    "    # Shape input_shape and dtype 'int32' (as it contains indices, which are integers).\n",
    "    sentence_indices = Input(shape=input_shape, dtype='int32')\n",
    "    \n",
    "    # Model Graph\n",
    "    embeddings = embedding_layer(sentence_indices)          # word embeddings\n",
    "    X = LSTM(units=128, return_sequences=True)(embeddings)  # returned o/p should be a batch of sequences.\n",
    "    X = Dropout(0.5)(X)                                     # dropout with a probability of 0.5\n",
    "    X = LSTM(units=128, return_sequences=False)(X)          # returned o/p is a single hidden state\n",
    "    X = Dropout(0.5)(X)\n",
    "    X = Dense(5)(X)\n",
    "    X = Activation('softmax')(X)\n",
    "    \n",
    "    # Create Model\n",
    "    model = Model(inputs = sentence_indices, outputs = X)\n",
    "    \n",
    "    return model"
   ]
  },
  {
   "cell_type": "code",
   "execution_count": 23,
   "metadata": {},
   "outputs": [
    {
     "data": {
      "text/plain": [
       "10"
      ]
     },
     "execution_count": 23,
     "metadata": {},
     "output_type": "execute_result"
    }
   ],
   "source": [
    "maxLen = len(max(X_train, key=len).split())\n",
    "maxLen"
   ]
  },
  {
   "cell_type": "code",
   "execution_count": 24,
   "metadata": {},
   "outputs": [
    {
     "name": "stdout",
     "output_type": "stream",
     "text": [
      "Model: \"functional_1\"\n",
      "_________________________________________________________________\n",
      "Layer (type)                 Output Shape              Param #   \n",
      "=================================================================\n",
      "input_1 (InputLayer)         [(None, 10)]              0         \n",
      "_________________________________________________________________\n",
      "embedding (Embedding)        (None, 10, 50)            20000050  \n",
      "_________________________________________________________________\n",
      "lstm (LSTM)                  (None, 10, 128)           91648     \n",
      "_________________________________________________________________\n",
      "dropout (Dropout)            (None, 10, 128)           0         \n",
      "_________________________________________________________________\n",
      "lstm_1 (LSTM)                (None, 128)               131584    \n",
      "_________________________________________________________________\n",
      "dropout_1 (Dropout)          (None, 128)               0         \n",
      "_________________________________________________________________\n",
      "dense (Dense)                (None, 5)                 645       \n",
      "_________________________________________________________________\n",
      "activation (Activation)      (None, 5)                 0         \n",
      "=================================================================\n",
      "Total params: 20,223,927\n",
      "Trainable params: 223,877\n",
      "Non-trainable params: 20,000,050\n",
      "_________________________________________________________________\n"
     ]
    }
   ],
   "source": [
    "model = Emojify_V2((maxLen,), word_to_vec_map, word_to_index)\n",
    "model.summary()"
   ]
  },
  {
   "cell_type": "code",
   "execution_count": 25,
   "metadata": {},
   "outputs": [],
   "source": [
    "model.compile(loss='categorical_crossentropy', optimizer='adam', metrics=['accuracy'])"
   ]
  },
  {
   "cell_type": "code",
   "execution_count": 26,
   "metadata": {},
   "outputs": [],
   "source": [
    "X_train_indices = sentences_to_indices(X_train, word_to_index, maxLen)\n",
    "Y_train_oh = convert_to_one_hot(Y_train, C = 5)"
   ]
  },
  {
   "cell_type": "code",
   "execution_count": 27,
   "metadata": {},
   "outputs": [
    {
     "name": "stdout",
     "output_type": "stream",
     "text": [
      "Epoch 1/50\n",
      "5/5 [==============================] - 0s 10ms/step - loss: 1.5981 - accuracy: 0.2424\n",
      "Epoch 2/50\n",
      "5/5 [==============================] - 0s 9ms/step - loss: 1.5287 - accuracy: 0.2803\n",
      "Epoch 3/50\n",
      "5/5 [==============================] - 0s 8ms/step - loss: 1.4740 - accuracy: 0.3409\n",
      "Epoch 4/50\n",
      "5/5 [==============================] - 0s 7ms/step - loss: 1.3891 - accuracy: 0.5000\n",
      "Epoch 5/50\n",
      "5/5 [==============================] - 0s 8ms/step - loss: 1.2985 - accuracy: 0.5985\n",
      "Epoch 6/50\n",
      "5/5 [==============================] - 0s 7ms/step - loss: 1.1563 - accuracy: 0.5985\n",
      "Epoch 7/50\n",
      "5/5 [==============================] - 0s 7ms/step - loss: 1.0379 - accuracy: 0.6515\n",
      "Epoch 8/50\n",
      "5/5 [==============================] - 0s 8ms/step - loss: 0.8563 - accuracy: 0.7121\n",
      "Epoch 9/50\n",
      "5/5 [==============================] - 0s 7ms/step - loss: 0.7865 - accuracy: 0.7197\n",
      "Epoch 10/50\n",
      "5/5 [==============================] - 0s 8ms/step - loss: 0.6703 - accuracy: 0.7652\n",
      "Epoch 11/50\n",
      "5/5 [==============================] - 0s 7ms/step - loss: 0.6857 - accuracy: 0.7879\n",
      "Epoch 12/50\n",
      "5/5 [==============================] - 0s 7ms/step - loss: 0.7108 - accuracy: 0.7500\n",
      "Epoch 13/50\n",
      "5/5 [==============================] - 0s 9ms/step - loss: 0.5774 - accuracy: 0.8106\n",
      "Epoch 14/50\n",
      "5/5 [==============================] - 0s 8ms/step - loss: 0.6269 - accuracy: 0.7652\n",
      "Epoch 15/50\n",
      "5/5 [==============================] - 0s 7ms/step - loss: 0.5186 - accuracy: 0.7803\n",
      "Epoch 16/50\n",
      "5/5 [==============================] - 0s 7ms/step - loss: 0.5835 - accuracy: 0.7879\n",
      "Epoch 17/50\n",
      "5/5 [==============================] - 0s 8ms/step - loss: 0.4049 - accuracy: 0.8788\n",
      "Epoch 18/50\n",
      "5/5 [==============================] - 0s 8ms/step - loss: 0.3827 - accuracy: 0.8636\n",
      "Epoch 19/50\n",
      "5/5 [==============================] - 0s 7ms/step - loss: 0.4177 - accuracy: 0.8561\n",
      "Epoch 20/50\n",
      "5/5 [==============================] - 0s 8ms/step - loss: 0.3258 - accuracy: 0.8788\n",
      "Epoch 21/50\n",
      "5/5 [==============================] - 0s 8ms/step - loss: 0.2944 - accuracy: 0.9091\n",
      "Epoch 22/50\n",
      "5/5 [==============================] - 0s 8ms/step - loss: 0.3179 - accuracy: 0.8712\n",
      "Epoch 23/50\n",
      "5/5 [==============================] - 0s 8ms/step - loss: 0.2302 - accuracy: 0.9167\n",
      "Epoch 24/50\n",
      "5/5 [==============================] - 0s 8ms/step - loss: 0.3801 - accuracy: 0.8788\n",
      "Epoch 25/50\n",
      "5/5 [==============================] - 0s 8ms/step - loss: 0.2661 - accuracy: 0.9015\n",
      "Epoch 26/50\n",
      "5/5 [==============================] - 0s 7ms/step - loss: 0.2457 - accuracy: 0.9091\n",
      "Epoch 27/50\n",
      "5/5 [==============================] - 0s 8ms/step - loss: 0.2692 - accuracy: 0.8939\n",
      "Epoch 28/50\n",
      "5/5 [==============================] - 0s 7ms/step - loss: 0.1741 - accuracy: 0.9318\n",
      "Epoch 29/50\n",
      "5/5 [==============================] - 0s 9ms/step - loss: 0.2539 - accuracy: 0.9091\n",
      "Epoch 30/50\n",
      "5/5 [==============================] - 0s 7ms/step - loss: 0.1330 - accuracy: 0.9697\n",
      "Epoch 31/50\n",
      "5/5 [==============================] - 0s 7ms/step - loss: 0.1397 - accuracy: 0.9697\n",
      "Epoch 32/50\n",
      "5/5 [==============================] - 0s 9ms/step - loss: 0.1249 - accuracy: 0.9848\n",
      "Epoch 33/50\n",
      "5/5 [==============================] - 0s 8ms/step - loss: 0.1184 - accuracy: 0.9621\n",
      "Epoch 34/50\n",
      "5/5 [==============================] - 0s 9ms/step - loss: 0.1026 - accuracy: 0.9697\n",
      "Epoch 35/50\n",
      "5/5 [==============================] - 0s 9ms/step - loss: 0.0870 - accuracy: 0.9848\n",
      "Epoch 36/50\n",
      "5/5 [==============================] - 0s 9ms/step - loss: 0.2465 - accuracy: 0.9242\n",
      "Epoch 37/50\n",
      "5/5 [==============================] - 0s 10ms/step - loss: 0.1979 - accuracy: 0.9318\n",
      "Epoch 38/50\n",
      "5/5 [==============================] - 0s 10ms/step - loss: 0.2435 - accuracy: 0.9091\n",
      "Epoch 39/50\n",
      "5/5 [==============================] - 0s 9ms/step - loss: 0.1122 - accuracy: 0.9697\n",
      "Epoch 40/50\n",
      "5/5 [==============================] - 0s 10ms/step - loss: 0.1177 - accuracy: 0.9697\n",
      "Epoch 41/50\n",
      "5/5 [==============================] - 0s 10ms/step - loss: 0.0840 - accuracy: 0.9773\n",
      "Epoch 42/50\n",
      "5/5 [==============================] - 0s 10ms/step - loss: 0.0801 - accuracy: 0.9773\n",
      "Epoch 43/50\n",
      "5/5 [==============================] - 0s 9ms/step - loss: 0.0628 - accuracy: 0.9924\n",
      "Epoch 44/50\n",
      "5/5 [==============================] - 0s 10ms/step - loss: 0.0543 - accuracy: 0.9924\n",
      "Epoch 45/50\n",
      "5/5 [==============================] - 0s 9ms/step - loss: 0.0452 - accuracy: 0.9924\n",
      "Epoch 46/50\n",
      "5/5 [==============================] - 0s 10ms/step - loss: 0.0516 - accuracy: 0.9924\n",
      "Epoch 47/50\n",
      "5/5 [==============================] - 0s 10ms/step - loss: 0.0404 - accuracy: 0.9924\n",
      "Epoch 48/50\n",
      "5/5 [==============================] - 0s 10ms/step - loss: 0.0314 - accuracy: 0.9924\n",
      "Epoch 49/50\n",
      "5/5 [==============================] - 0s 10ms/step - loss: 0.0256 - accuracy: 0.9924\n",
      "Epoch 50/50\n",
      "5/5 [==============================] - 0s 10ms/step - loss: 0.0198 - accuracy: 0.9924\n"
     ]
    },
    {
     "data": {
      "text/plain": [
       "<tensorflow.python.keras.callbacks.History at 0x2763696ad08>"
      ]
     },
     "execution_count": 27,
     "metadata": {},
     "output_type": "execute_result"
    }
   ],
   "source": [
    "model.fit(X_train_indices, Y_train_oh, epochs = 50, batch_size = 32, shuffle=True)"
   ]
  },
  {
   "cell_type": "code",
   "execution_count": 28,
   "metadata": {},
   "outputs": [
    {
     "name": "stdout",
     "output_type": "stream",
     "text": [
      "2/2 [==============================] - 0s 2ms/step - loss: 0.6325 - accuracy: 0.8750\n",
      "\n",
      "Test accuracy =  0.875\n"
     ]
    }
   ],
   "source": [
    "X_test_indices = sentences_to_indices(X_test, word_to_index, max_len = maxLen)\n",
    "Y_test_oh = convert_to_one_hot(Y_test, C = 5)\n",
    "loss, acc = model.evaluate(X_test_indices, Y_test_oh)\n",
    "print()\n",
    "print(\"Test accuracy = \", acc)"
   ]
  },
  {
   "cell_type": "code",
   "execution_count": 29,
   "metadata": {},
   "outputs": [
    {
     "name": "stdout",
     "output_type": "stream",
     "text": [
      "Expected emoji:😞 prediction: work is hard\t😄\n",
      "Expected emoji:😞 prediction: This girl is messing with me\t❤️\n",
      "Expected emoji:😞 prediction: work is horrible\t😄\n",
      "Expected emoji:😞 prediction: she is a bully\t❤️\n",
      "Expected emoji:😞 prediction: My life is so boring\t❤️\n",
      "Expected emoji:😞 prediction: go away\t⚾\n",
      "Expected emoji:😞 prediction: yesterday we lost again\t⚾\n"
     ]
    }
   ],
   "source": [
    "# Mislabelled examples\n",
    "C = 5\n",
    "X_test_indices = sentences_to_indices(X_test, word_to_index, maxLen)\n",
    "pred = model.predict(X_test_indices)\n",
    "for i in range(len(pred)):\n",
    "    num = np.argmax(pred[i])\n",
    "    if(num != Y_test[i]):\n",
    "        print('Expected emoji:'+ label_to_emoji(Y_test[i]) +\\\n",
    "              ' prediction: '+ X_test[i] + label_to_emoji(num).strip())"
   ]
  },
  {
   "cell_type": "code",
   "execution_count": 30,
   "metadata": {},
   "outputs": [
    {
     "name": "stdout",
     "output_type": "stream",
     "text": [
      "do you want to play ⚾\n"
     ]
    }
   ],
   "source": [
    "_test = np.array(['do you want to play'])\n",
    "_test_indices = sentences_to_indices(_test, word_to_index, maxLen)\n",
    "print(_test[0] +' '+  label_to_emoji(np.argmax(model.predict(_test_indices))))"
   ]
  }
 ],
 "metadata": {
  "kernelspec": {
   "display_name": "Python [conda env:coursera]",
   "language": "python",
   "name": "conda-env-coursera-py"
  },
  "language_info": {
   "codemirror_mode": {
    "name": "ipython",
    "version": 3
   },
   "file_extension": ".py",
   "mimetype": "text/x-python",
   "name": "python",
   "nbconvert_exporter": "python",
   "pygments_lexer": "ipython3",
   "version": "3.7.6"
  }
 },
 "nbformat": 4,
 "nbformat_minor": 4
}
